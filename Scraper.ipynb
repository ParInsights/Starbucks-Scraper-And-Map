{
 "cells": [
  {
   "cell_type": "code",
   "execution_count": null,
   "metadata": {
    "collapsed": true
   },
   "outputs": [],
   "source": [
    "import requests\n",
    "import re\n",
    "import pandas as pd\n",
    "import folium\n",
    "from shapely.geometry import Point\n",
    "from shapely.geometry.polygon import Polygon\n",
    "import json"
   ]
  },
  {
   "cell_type": "code",
   "execution_count": null,
   "metadata": {
    "collapsed": true
   },
   "outputs": [],
   "source": [
    "#zipcodes in LA\n",
    "f = open('laZips.txt', 'r')\n",
    "laZips = [z.replace('\\n','') for z in f.readlines()]"
   ]
  },
  {
   "cell_type": "code",
   "execution_count": null,
   "metadata": {
    "collapsed": true
   },
   "outputs": [],
   "source": [
    "def processResponse(r):\n",
    "    #parse out each store's info\n",
    "    stores = re.findall(r'\"storeNumber\":.*?\"slug\"', r)\n",
    "    storeInfo = []\n",
    "    for store in stores:\n",
    "        #parse out info about each store\n",
    "        storeInfo.append(list(re.findall(r'\"storeNumber\":\"(.*?)\".*?\"name\":\"(.*?)\".*?\"latitude\":(.*?),.*?\"longitude\":(.*?)}.*?\"city\":\"(.*?)\".*?\"countrySubdivisionCode\":\"(.*?)\".*?\"postalCode\":\"(.*?)\"', store)[0]))\n",
    "    return storeInfo"
   ]
  },
  {
   "cell_type": "code",
   "execution_count": null,
   "metadata": {
    "collapsed": false
   },
   "outputs": [],
   "source": [
    "allStores = []\n",
    "for idx,z in enumerate(laZips):\n",
    "    if idx%10 == 0:\n",
    "        print(idx,'/',len(laZips))\n",
    "    #search for 100 stores centered in given zip\n",
    "    r = requests.get('https://www.starbucks.com/store-locator?map=34.216464,-118.656046,11z&place='+z)\n",
    "    if r.status_code != 200:\n",
    "        raise SystemExit\n",
    "    storeInfoList = processResponse(r.text)\n",
    "    for storeInfo in storeInfoList:\n",
    "        storeInfo[6] = storeInfo[6][:5]\n",
    "    allStores += storeInfoList"
   ]
  },
  {
   "cell_type": "code",
   "execution_count": null,
   "metadata": {
    "collapsed": true
   },
   "outputs": [],
   "source": [
    "#construct non-duplicated list of stores\n",
    "seenStoreIds = []\n",
    "laStores = []\n",
    "for store in allStores:\n",
    "    if store[0] in seenStoreIds:\n",
    "        continue\n",
    "    else:\n",
    "        laStores.append(store)\n",
    "        seenStoreIds.append(store[0])"
   ]
  },
  {
   "cell_type": "code",
   "execution_count": null,
   "metadata": {
    "collapsed": false,
    "scrolled": true
   },
   "outputs": [],
   "source": [
    "#open up the LA Geojson\n",
    "with open('laMap.json') as f:\n",
    "    laArea = json.load(f)\n",
    "laPolygon = Polygon(laArea['features'][0]['geometry']['coordinates'][0][0])"
   ]
  },
  {
   "cell_type": "code",
   "execution_count": null,
   "metadata": {
    "collapsed": true
   },
   "outputs": [],
   "source": [
    "#keep store if and only if it is within the LA polygon\n",
    "keepLAStores = []\n",
    "for store in laStores:\n",
    "    point = Point(float(store[3]), float(store[2]))\n",
    "    if laPolygon.contains(point):\n",
    "        keepLAStores.append(store)"
   ]
  },
  {
   "cell_type": "code",
   "execution_count": null,
   "metadata": {
    "collapsed": false
   },
   "outputs": [],
   "source": [
    "len(laStores), len(keepLAStores)"
   ]
  },
  {
   "cell_type": "code",
   "execution_count": null,
   "metadata": {
    "collapsed": true
   },
   "outputs": [],
   "source": [
    "dfSbux = pd.DataFrame(columns=['id', 'strLocation', 'latitude', 'longitude', 'city', 'state', 'zip'])\n",
    "for i,col in enumerate(dfSbux.columns):\n",
    "    dfSbux[col] = [item[i] for item in keepLAStores]"
   ]
  },
  {
   "cell_type": "code",
   "execution_count": null,
   "metadata": {
    "collapsed": true
   },
   "outputs": [],
   "source": [
    "dfSbux.latitude = dfSbux.latitude.apply(lambda x: float(x))\n",
    "dfSbux.longitude = dfSbux.longitude.apply(lambda x: float(x))"
   ]
  },
  {
   "cell_type": "code",
   "execution_count": null,
   "metadata": {
    "collapsed": false
   },
   "outputs": [],
   "source": [
    "laMap = folium.Map(location=[34.0522,-118.2437], tiles='Stamen Toner', zoom_start=10)\n",
    "for i,row in dfSbux.iterrows():\n",
    "    folium.CircleMarker((row.latitude,row.longitude), radius=3, weight=2, fill_color='red', fill_opacity=.9).add_to(laMap)"
   ]
  },
  {
   "cell_type": "code",
   "execution_count": null,
   "metadata": {
    "collapsed": false
   },
   "outputs": [],
   "source": [
    "folium.GeoJson(laArea).add_to(laMap)"
   ]
  },
  {
   "cell_type": "code",
   "execution_count": null,
   "metadata": {
    "collapsed": false
   },
   "outputs": [],
   "source": [
    "laMap"
   ]
  },
  {
   "cell_type": "code",
   "execution_count": null,
   "metadata": {
    "collapsed": true
   },
   "outputs": [],
   "source": []
  }
 ],
 "metadata": {
  "kernelspec": {
   "display_name": "Python [Root]",
   "language": "python",
   "name": "Python [Root]"
  },
  "language_info": {
   "codemirror_mode": {
    "name": "ipython",
    "version": 2
   },
   "file_extension": ".py",
   "mimetype": "text/x-python",
   "name": "python",
   "nbconvert_exporter": "python",
   "pygments_lexer": "ipython2",
   "version": "2.7.12"
  }
 },
 "nbformat": 4,
 "nbformat_minor": 2
}
